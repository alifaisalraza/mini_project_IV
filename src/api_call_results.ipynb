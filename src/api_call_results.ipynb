{
 "cells": [
  {
   "cell_type": "code",
   "execution_count": 1,
   "id": "ed5fb114",
   "metadata": {},
   "outputs": [],
   "source": [
    "json_data1 = {'Gender': 'Female',\n",
    " 'Married': 'No',\n",
    " 'Dependents': '0',\n",
    " 'Education': 'Graduate',\n",
    " 'Self_Employed': 'No',\n",
    " 'LoanAmount': '4.6443908991413725',\n",
    " 'Loan_Amount_Term': '360.0',\n",
    " 'Credit_History': '0.0',\n",
    " 'Property_Area': 'Urban',\n",
    " 'TotalIncome':'8.35772841676521'\n",
    " }"
   ]
  },
  {
   "cell_type": "code",
   "execution_count": 2,
   "id": "1b6d458b",
   "metadata": {},
   "outputs": [],
   "source": [
    "json_data2 = {'Gender': 'Male',\n",
    " 'Married': 'No',\n",
    " 'Dependents': '1',\n",
    " 'Education': 'Graduate',\n",
    " 'Self_Employed': 'No',\n",
    " 'LoanAmount': '4.762173934797756',\n",
    " 'Loan_Amount_Term': '360.0',\n",
    " 'Credit_History': '1.0',\n",
    " 'Property_Area': 'Urban',\n",
    " 'TotalIncome':'8.728587995695898'\n",
    " }"
   ]
  },
  {
   "cell_type": "code",
   "execution_count": 3,
   "id": "6f565a08",
   "metadata": {},
   "outputs": [],
   "source": [
    "json_data3 = {'Gender': 'Male',\n",
    " 'Married': 'No',\n",
    " 'Dependents': '1',\n",
    " 'Education': 'Not Graduate',\n",
    " 'Self_Employed': 'No',\n",
    " 'LoanAmount': '5.0',\n",
    " 'Loan_Amount_Term': '360.0',\n",
    " 'Credit_History': '1.0',\n",
    " 'Property_Area': 'Rural',\n",
    " 'TotalIncome':'7.5'\n",
    " }"
   ]
  },
  {
   "cell_type": "code",
   "execution_count": 7,
   "id": "b24d7ce6-3f1d-477d-89b3-46276c305f22",
   "metadata": {},
   "outputs": [
    {
     "name": "stdout",
     "output_type": "stream",
     "text": [
      "[0]\n"
     ]
    }
   ],
   "source": [
    "import requests\n",
    "#URL = \"http://127.0.0.1:5050/scoring\"\n",
    "URL=\"http://ec2-34-207-221-17.compute-1.amazonaws.com:5050/scoring\"\n",
    "# sending get request and saving the response as response object \n",
    "r = requests.post(url = URL, json = json_data1)\n",
    "\n",
    "print(r.json())"
   ]
  },
  {
   "cell_type": "code",
   "execution_count": 5,
   "id": "7a9d24d4",
   "metadata": {},
   "outputs": [
    {
     "name": "stdout",
     "output_type": "stream",
     "text": [
      "[1]\n"
     ]
    }
   ],
   "source": [
    "import requests\n",
    "#URL = \"http://127.0.0.1:5050/scoring\"\n",
    "URL=\"http://ec2-34-207-221-17.compute-1.amazonaws.com:5050/scoring\"\n",
    "# sending get request and saving the response as response object \n",
    "r = requests.post(url = URL, json = json_data2)\n",
    "\n",
    "print(r.json())"
   ]
  },
  {
   "cell_type": "code",
   "execution_count": 6,
   "id": "6b07fe44",
   "metadata": {},
   "outputs": [
    {
     "name": "stdout",
     "output_type": "stream",
     "text": [
      "[1]\n"
     ]
    }
   ],
   "source": [
    "import requests\n",
    "#URL = \"http://127.0.0.1:5050/scoring\"\n",
    "URL=\"http://ec2-34-207-221-17.compute-1.amazonaws.com:5050/scoring\"\n",
    "# sending get request and saving the response as response object \n",
    "r = requests.post(url = URL, json = json_data3)\n",
    "\n",
    "print(r.json())"
   ]
  }
 ],
 "metadata": {
  "kernelspec": {
   "display_name": "Python 3 (ipykernel)",
   "language": "python",
   "name": "python3"
  },
  "language_info": {
   "codemirror_mode": {
    "name": "ipython",
    "version": 3
   },
   "file_extension": ".py",
   "mimetype": "text/x-python",
   "name": "python",
   "nbconvert_exporter": "python",
   "pygments_lexer": "ipython3",
   "version": "3.8.15"
  }
 },
 "nbformat": 4,
 "nbformat_minor": 5
}
